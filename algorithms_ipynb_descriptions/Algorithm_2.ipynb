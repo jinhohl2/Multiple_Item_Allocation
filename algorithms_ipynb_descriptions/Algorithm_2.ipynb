{
 "cells": [
  {
   "cell_type": "markdown",
   "metadata": {},
   "source": [
    "# Randomized Algorithm for Nonnegative Convex Externalities"
   ]
  },
  {
   "cell_type": "code",
   "execution_count": 1,
   "metadata": {
    "scrolled": true
   },
   "outputs": [],
   "source": [
    "import numpy as np\n",
    "import pandas as pd\n",
    "import random\n",
    "from scipy import stats"
   ]
  },
  {
   "cell_type": "markdown",
   "metadata": {},
   "source": [
    "### 1. Data Initialization"
   ]
  },
  {
   "cell_type": "markdown",
   "metadata": {},
   "source": [
    "- Assume that the optimal solution of the concave problem (5) is received as a numpy array of size (n*m) where n is the number of agents and m is the number of items. \n",
    "<br><br>\n",
    "- Initialize the posibility matrix p"
   ]
  },
  {
   "cell_type": "code",
   "execution_count": 2,
   "metadata": {},
   "outputs": [
    {
     "name": "stdout",
     "output_type": "stream",
     "text": [
      "[[1.   0.   0.56]\n",
      " [0.25 0.5  0.64]\n",
      " [0.   0.4  1.  ]\n",
      " [0.33 1.   0.4 ]\n",
      " [0.6  0.   0.9 ]]\n"
     ]
    }
   ],
   "source": [
    "# num_agents : Number of agents\n",
    "# num_items  : Number of items\n",
    "# x          : Solution vector of the convex problem\n",
    "# p          : Matrix representing possibilities that theta_i will be greater than x[i,j] for each component of matrix x\n",
    "\n",
    "num_agents = 5\n",
    "num_items = 3\n",
    "\n",
    "x = np.mat([1,0.25,0,0.33,0.6,0,0.5,0.4,1,0,0.56,0.64,1,0.4,0.9])\n",
    "x = np.reshape(x, (num_agents,num_items), order = 'F')\n",
    "p = 1-x\n",
    "\n",
    "print(x)"
   ]
  },
  {
   "cell_type": "markdown",
   "metadata": {},
   "source": [
    "### 2. Algorithm Stage 1"
   ]
  },
  {
   "cell_type": "markdown",
   "metadata": {},
   "source": [
    "- Round columns of matrix **$x$** independently\n",
    "<br><br>\n",
    "- For each $i \\in [m]$ pick an independent uniform random variable $\\theta_{i} \\in [0,1]$, and for $j \\in [n]$ let $x_{ji}^{\\theta_{i}} = 1$ if $x_{ji} \\geq \\theta_{i}$, and $x_{ji}^{\\theta_{i}} = 0$ otherwise. Moreover, let $x^{\\theta} = [x_{1}^{\\theta_{1}}|...|x_{m}^{\\theta_{m}}]$ be the binary $n \\times m$ random matrix obtained after this stage of rounding"
   ]
  },
  {
   "cell_type": "code",
   "execution_count": 5,
   "metadata": {},
   "outputs": [
    {
     "name": "stdout",
     "output_type": "stream",
     "text": [
      "[0.19787958 0.87409985 0.3100013 ]\n"
     ]
    }
   ],
   "source": [
    "# m : Number of items\n",
    "# n : Number of agents\n",
    "# theta : numpy array storing the value of theta_i for each row i of the matrix x\n",
    "\n",
    "m = num_items\n",
    "n = num_agents\n",
    "theta = np.zeros(shape = m)\n",
    "\n",
    "x_theta = np.copy(x.T) # copy the transposed version of matrix x\n",
    "\n",
    "# store theta_i for each for of the matrix x\n",
    "for i in np.arange(m):\n",
    "    theta[i] = float(np.random.uniform(0,1,1))\n",
    "    \n",
    "# store binary values into matrix x_theta depend on the value of theta and x\n",
    "for i in np.arange(m):\n",
    "    x_theta[i][x_theta[i] >= theta[i]] = 1\n",
    "    x_theta[i][x_theta[i] < theta[i]] = 0\n",
    "            \n",
    "x_theta = x_theta.T # transpose x_theta again\n",
    "\n",
    "print(theta)"
   ]
  },
  {
   "cell_type": "code",
   "execution_count": 6,
   "metadata": {},
   "outputs": [
    {
     "name": "stdout",
     "output_type": "stream",
     "text": [
      "[[1.   0.   0.56]\n",
      " [0.25 0.5  0.64]\n",
      " [0.   0.4  1.  ]\n",
      " [0.33 1.   0.4 ]\n",
      " [0.6  0.   0.9 ]]\n",
      "[[1. 0. 1.]\n",
      " [1. 0. 1.]\n",
      " [0. 0. 1.]\n",
      " [1. 1. 1.]\n",
      " [1. 0. 1.]]\n",
      "[[0.   1.   0.44]\n",
      " [0.75 0.5  0.36]\n",
      " [1.   0.6  0.  ]\n",
      " [0.67 0.   0.6 ]\n",
      " [0.4  1.   0.1 ]]\n"
     ]
    }
   ],
   "source": [
    "# check all matrices x, x_theta, and p\n",
    "\n",
    "print(x)\n",
    "print(x_theta)\n",
    "print(p)"
   ]
  },
  {
   "cell_type": "markdown",
   "metadata": {},
   "source": [
    "### 3. Algorithm Stage 2"
   ]
  },
  {
   "cell_type": "markdown",
   "metadata": {},
   "source": [
    "- Round $x^{\\theta}$ to **$\\hat{x}$** by separately applying the fair contention resolution to every row of\n",
    "$x^{\\theta}$"
   ]
  },
  {
   "cell_type": "code",
   "execution_count": 7,
   "metadata": {},
   "outputs": [
    {
     "name": "stdout",
     "output_type": "stream",
     "text": [
      "1.44\n",
      "1.6099999999999999\n",
      "1.6\n",
      "1.27\n",
      "1.5\n",
      "[[0.65277778 0.         0.34722222]\n",
      " [0.37888199 0.         0.62111801]\n",
      " [0.         0.         1.        ]\n",
      " [0.23622047 0.5        0.26377953]\n",
      " [0.4        0.         0.6       ]]\n"
     ]
    }
   ],
   "source": [
    "# A : numpy array storing the cardinality of set A_i for each row i as an integer\n",
    "# r : output probability matrix of the fair contention resolution\n",
    "\n",
    "A = np.sum(x_theta, axis=1)\n",
    "r = np.zeros(shape = x_theta.shape)\n",
    "\n",
    "for i in range(len(r)):\n",
    "    # if the cardinality of A_i is 1 or 0, the i th row of r is equal to the i th row of x_theta\n",
    "    if A[i] <= 1:\n",
    "        r[i] = x_theta[i]\n",
    "    else:\n",
    "        for j in range(len(r[i])):\n",
    "            sigma = np.sum(p[i,x_theta[i]==1])/(A[i]-1) + np.sum(p[i,x_theta[i]==0])/(A[i])\n",
    "            if x_theta[i,j] == 1 : #if agent j is included in set A, subtract p[i,j]/(A[i] - 1) from sigma\n",
    "                sigma -= p[i,j]/(A[i] - 1)\n",
    "            else:\n",
    "                sigma = 0\n",
    "            r[i,j]=(1/np.sum(p[i]))*sigma\n",
    "    print(np.sum(p[i]))\n",
    "\n",
    "print(r)\n",
    "\n"
   ]
  },
  {
   "cell_type": "code",
   "execution_count": 8,
   "metadata": {},
   "outputs": [
    {
     "name": "stdout",
     "output_type": "stream",
     "text": [
      "[[1. 0. 0.]\n",
      " [0. 0. 1.]\n",
      " [0. 0. 1.]\n",
      " [0. 0. 1.]\n",
      " [0. 0. 1.]]\n"
     ]
    }
   ],
   "source": [
    "for i in range(r.shape[0]):\n",
    "    xk = np.arange(len(r[i]))\n",
    "    if np.sum(r[i]) == 0:\n",
    "        r[i] = 1/len(r[i])\n",
    "    pk = r[i]\n",
    "    dist = stats.rv_discrete(values=(xk,pk))\n",
    "    r[i] = 0\n",
    "    r[i][dist.rvs(size=1)[0]] = 1\n",
    "    \n",
    "print(r)"
   ]
  }
 ],
 "metadata": {
  "kernelspec": {
   "display_name": "Python 3",
   "language": "python",
   "name": "python3"
  },
  "language_info": {
   "codemirror_mode": {
    "name": "ipython",
    "version": 3
   },
   "file_extension": ".py",
   "mimetype": "text/x-python",
   "name": "python",
   "nbconvert_exporter": "python",
   "pygments_lexer": "ipython3",
   "version": "3.8.3"
  }
 },
 "nbformat": 4,
 "nbformat_minor": 4
}
