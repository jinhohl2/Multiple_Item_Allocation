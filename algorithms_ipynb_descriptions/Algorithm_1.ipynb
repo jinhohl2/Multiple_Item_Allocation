{
 "cells": [
  {
   "cell_type": "markdown",
   "metadata": {},
   "source": [
    "# KT Rounding Algorithm "
   ]
  },
  {
   "cell_type": "code",
   "execution_count": 1,
   "metadata": {},
   "outputs": [],
   "source": [
    "import numpy as np\n",
    "import pandas as pd\n",
    "import random"
   ]
  },
  {
   "cell_type": "markdown",
   "metadata": {},
   "source": [
    "### 1. Data initialization & Indexing"
   ]
  },
  {
   "cell_type": "markdown",
   "metadata": {},
   "source": [
    "- Assume that the optimal solution of the concave problem (5) is received as a numpy array of size (n*m) where n is the number of agents and m is the number of items. \n",
    "<br><br>\n",
    "- Then convert the solution as Pandas DataFrame in order to index each row and column of the solution matrix.\n"
   ]
  },
  {
   "cell_type": "code",
   "execution_count": 22,
   "metadata": {},
   "outputs": [
    {
     "data": {
      "text/html": [
       "<div>\n",
       "<style scoped>\n",
       "    .dataframe tbody tr th:only-of-type {\n",
       "        vertical-align: middle;\n",
       "    }\n",
       "\n",
       "    .dataframe tbody tr th {\n",
       "        vertical-align: top;\n",
       "    }\n",
       "\n",
       "    .dataframe thead th {\n",
       "        text-align: right;\n",
       "    }\n",
       "</style>\n",
       "<table border=\"1\" class=\"dataframe\">\n",
       "  <thead>\n",
       "    <tr style=\"text-align: right;\">\n",
       "      <th></th>\n",
       "      <th>0</th>\n",
       "      <th>1</th>\n",
       "      <th>2</th>\n",
       "    </tr>\n",
       "  </thead>\n",
       "  <tbody>\n",
       "    <tr>\n",
       "      <th>0</th>\n",
       "      <td>1.00</td>\n",
       "      <td>0.00</td>\n",
       "      <td>0.00</td>\n",
       "    </tr>\n",
       "    <tr>\n",
       "      <th>1</th>\n",
       "      <td>0.25</td>\n",
       "      <td>0.40</td>\n",
       "      <td>0.35</td>\n",
       "    </tr>\n",
       "    <tr>\n",
       "      <th>2</th>\n",
       "      <td>0.00</td>\n",
       "      <td>0.00</td>\n",
       "      <td>1.00</td>\n",
       "    </tr>\n",
       "    <tr>\n",
       "      <th>3</th>\n",
       "      <td>0.33</td>\n",
       "      <td>0.33</td>\n",
       "      <td>0.33</td>\n",
       "    </tr>\n",
       "    <tr>\n",
       "      <th>4</th>\n",
       "      <td>0.60</td>\n",
       "      <td>0.20</td>\n",
       "      <td>0.20</td>\n",
       "    </tr>\n",
       "  </tbody>\n",
       "</table>\n",
       "</div>"
      ],
      "text/plain": [
       "      0     1     2\n",
       "0  1.00  0.00  0.00\n",
       "1  0.25  0.40  0.35\n",
       "2  0.00  0.00  1.00\n",
       "3  0.33  0.33  0.33\n",
       "4  0.60  0.20  0.20"
      ]
     },
     "execution_count": 22,
     "metadata": {},
     "output_type": "execute_result"
    }
   ],
   "source": [
    "# num_agents : Number of agents\n",
    "# num_items  : Number of items\n",
    "# x          : Solution vector of the convex problem\n",
    "\n",
    "num_agents = 5 \n",
    "num_items = 3  \n",
    "\n",
    "x = np.mat([1,0.25,0,0.33,0.6,0,0.4,0,0.33,0.2,0,0.35,1,0.33,0.2])\n",
    "x = np.reshape(x, (num_agents,num_items), order = 'F')\n",
    "\n",
    "x = pd.DataFrame(x)\n",
    "x.head()"
   ]
  },
  {
   "cell_type": "code",
   "execution_count": 23,
   "metadata": {},
   "outputs": [
    {
     "data": {
      "text/html": [
       "<div>\n",
       "<style scoped>\n",
       "    .dataframe tbody tr th:only-of-type {\n",
       "        vertical-align: middle;\n",
       "    }\n",
       "\n",
       "    .dataframe tbody tr th {\n",
       "        vertical-align: top;\n",
       "    }\n",
       "\n",
       "    .dataframe thead th {\n",
       "        text-align: right;\n",
       "    }\n",
       "</style>\n",
       "<table border=\"1\" class=\"dataframe\">\n",
       "  <thead>\n",
       "    <tr style=\"text-align: right;\">\n",
       "      <th></th>\n",
       "      <th>1</th>\n",
       "      <th>2</th>\n",
       "      <th>3</th>\n",
       "    </tr>\n",
       "  </thead>\n",
       "  <tbody>\n",
       "    <tr>\n",
       "      <th>a</th>\n",
       "      <td>1.00</td>\n",
       "      <td>0.00</td>\n",
       "      <td>0.00</td>\n",
       "    </tr>\n",
       "    <tr>\n",
       "      <th>b</th>\n",
       "      <td>0.25</td>\n",
       "      <td>0.40</td>\n",
       "      <td>0.35</td>\n",
       "    </tr>\n",
       "    <tr>\n",
       "      <th>c</th>\n",
       "      <td>0.00</td>\n",
       "      <td>0.00</td>\n",
       "      <td>1.00</td>\n",
       "    </tr>\n",
       "    <tr>\n",
       "      <th>d</th>\n",
       "      <td>0.33</td>\n",
       "      <td>0.33</td>\n",
       "      <td>0.33</td>\n",
       "    </tr>\n",
       "    <tr>\n",
       "      <th>e</th>\n",
       "      <td>0.60</td>\n",
       "      <td>0.20</td>\n",
       "      <td>0.20</td>\n",
       "    </tr>\n",
       "  </tbody>\n",
       "</table>\n",
       "</div>"
      ],
      "text/plain": [
       "      1     2     3\n",
       "a  1.00  0.00  0.00\n",
       "b  0.25  0.40  0.35\n",
       "c  0.00  0.00  1.00\n",
       "d  0.33  0.33  0.33\n",
       "e  0.60  0.20  0.20"
      ]
     },
     "execution_count": 23,
     "metadata": {},
     "output_type": "execute_result"
    }
   ],
   "source": [
    "#n : Set of agents that are represented by incrementing alphabetical characters\n",
    "#m : Set of items that are represented by incrementing integer numbers\n",
    "\n",
    "# initialize both n and m as empty sets\n",
    "n = set({}) \n",
    "m = set({})\n",
    "\n",
    "# add elements to set n and m\n",
    "n_count, m_count = x.shape \n",
    "\n",
    "n_elem = 'a'\n",
    "m_elem = '1'\n",
    "\n",
    "while (len(n) < n_count):\n",
    "    n.add(n_elem)\n",
    "    n_elem = chr(ord(n_elem) + 1)\n",
    "    \n",
    "while (len(m) < m_count):\n",
    "    m.add(m_elem)\n",
    "    m_elem = str(int(m_elem)+1)\n",
    "    \n",
    "# convert sets to lists and use them as index of the DataFrame x\n",
    "index_names = sorted(list(n))\n",
    "column_names = sorted(list(m))\n",
    "\n",
    "x.index = index_names\n",
    "x.columns = column_names\n",
    "\n",
    "x.head()"
   ]
  },
  {
   "cell_type": "markdown",
   "metadata": {},
   "source": [
    "### 2. Apply Algorithm"
   ]
  },
  {
   "cell_type": "markdown",
   "metadata": {},
   "source": [
    "- During the course of algorithm, initialize $S$ be the set of allocated agents and $S_{i}$ be the set of alocated item i. They are both initialized as $\\emptyset$.\n",
    "<br><br>\n",
    "- While $S \\neq [n]$, select $i \\in [m], \\theta \\in [0, 1]$ uniformly at random. Let $S_{i}^{\\theta} = \\{j \\in [n] \\setminus S : x_{ji} \\ge \\theta\\}$, and update $S_{i} \\gets S_{i} \\cup S_{i}^{\\theta}$ and $S \\gets S \\cup S_{i}^{\\theta}$.\n",
    "<br><br>\n",
    "- Return $S_{1},.....,S_{m}$"
   ]
  },
  {
   "cell_type": "code",
   "execution_count": 24,
   "metadata": {},
   "outputs": [],
   "source": [
    "# S   : Set S initialized as an empty set\n",
    "# S_i : Dictionary of set where keys are item i, and values are set of agents that are allocated item i. All sets are \n",
    "#       initialized as empty set. \n",
    "\n",
    "S = set({})\n",
    "S_i = {}\n",
    "\n",
    "# initialize an empty set for each item i\n",
    "for i in m:\n",
    "    S_i[i] = set({})\n",
    "    \n",
    "while (S != n):\n",
    "    m = list(m)\n",
    "    i = random.choice(m)\n",
    "    theta = float(np.random.uniform(0,1,1)) # select random number theta from uniform distribution [0,1]\n",
    "    S_theta = set({})\n",
    "    # within row i, add element to S_theta iif its value is equal or greater than theta\n",
    "    col_i = x[i]\n",
    "    for idx in col_i.index:\n",
    "        if idx not in S:\n",
    "            if col_i[idx] >= theta:\n",
    "                S_theta.add(idx)\n",
    "    # merge S_theta to S and S_i        \n",
    "    S = S.union(S_theta)\n",
    "    S_i[i] = S_i[i].union(S_theta)"
   ]
  },
  {
   "cell_type": "code",
   "execution_count": 43,
   "metadata": {},
   "outputs": [
    {
     "name": "stdout",
     "output_type": "stream",
     "text": [
      "{'1': {'a'}, '2': set(), '3': {'e', 'd', 'b', 'c'}}\n",
      "{'c', 'e', 'a', 'b', 'd'}\n",
      "['1', '2', '3']\n",
      "['a', 'b', 'c', 'd', 'e']\n",
      "[[1 0 0]\n",
      " [0 0 1]\n",
      " [0 0 1]\n",
      " [0 0 1]\n",
      " [0 0 1]]\n"
     ]
    }
   ],
   "source": [
    "S_i = dict(sorted(S_i.items()))\n",
    "print(S_i)\n",
    "print(S)\n",
    "item_list = sorted(list(S_i.keys()))\n",
    "agent_list = sorted(list(S))\n",
    "\n",
    "print(item_list)\n",
    "print(agent_list)\n",
    "\n",
    "output = pd.DataFrame(columns = item_list, index = agent_list)\n",
    "output.head()\n",
    "\n",
    "for k in S_i.keys():\n",
    "    for v in list(S_i[k]):\n",
    "    \n",
    "        output[k][v] = 1\n",
    "output = output.fillna(0)\n",
    "output = np.array(output)\n",
    "print(output)\n"
   ]
  }
 ],
 "metadata": {
  "kernelspec": {
   "display_name": "Python 3",
   "language": "python",
   "name": "python3"
  },
  "language_info": {
   "codemirror_mode": {
    "name": "ipython",
    "version": 3
   },
   "file_extension": ".py",
   "mimetype": "text/x-python",
   "name": "python",
   "nbconvert_exporter": "python",
   "pygments_lexer": "ipython3",
   "version": "3.8.3"
  }
 },
 "nbformat": 4,
 "nbformat_minor": 4
}
