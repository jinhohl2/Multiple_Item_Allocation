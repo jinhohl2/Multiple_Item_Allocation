{
 "cells": [
  {
   "cell_type": "code",
   "execution_count": 2,
   "metadata": {},
   "outputs": [],
   "source": [
    "import numpy as np\n",
    "import pandas as pd\n",
    "import random\n",
    "import cvxpy as cp\n",
    "import math"
   ]
  },
  {
   "cell_type": "code",
   "execution_count": 9,
   "metadata": {},
   "outputs": [
    {
     "name": "stdout",
     "output_type": "stream",
     "text": [
      "[[1. 1. 0. 0. 0. 0.]\n",
      " [0. 0. 1. 1. 0. 0.]\n",
      " [0. 0. 0. 0. 1. 1.]]\n"
     ]
    }
   ],
   "source": [
    "# n : Number of agents\n",
    "# m : Number of items\n",
    "\n",
    "n = 3\n",
    "m = 2\n",
    "\n",
    "A = np.zeros(shape=(n, n*m))\n",
    "\n",
    "beg = 0\n",
    "end = m\n",
    "for i in np.arange(n):\n",
    "    idx = np.linspace(beg, end, m, endpoint = False)\n",
    "    idx = idx.astype(int)\n",
    "    A[i,idx] = 1\n",
    "    beg += m\n",
    "    end += m\n",
    "    \n",
    "\n",
    "print(A)"
   ]
  },
  {
   "cell_type": "code",
   "execution_count": 14,
   "metadata": {},
   "outputs": [
    {
     "name": "stdout",
     "output_type": "stream",
     "text": [
      "[[0.91496063 0.65408427 0.44116778 0.96567247 0.15716513 0.47043394\n",
      "  0.34680182 0.78950104 0.64472811]\n",
      " [0.03056815 0.95651386 0.49507638 0.16497192 0.91218557 0.35578395\n",
      "  0.23264622 0.70956362 0.63736799]]\n",
      "(3, 6)\n",
      "(6,)\n",
      "(3,)\n"
     ]
    }
   ],
   "source": [
    "# x : The solution variable\n",
    "# a : Parameter a\n",
    "# A : Parameter A\n",
    "# b : Parameter b, which is equal to the vector of size n including ones.\n",
    "\n",
    "x = cp.Variable((n*m), integer = True)\n",
    "\n",
    "a = cp.Parameter((m,n*n))\n",
    "A_param = cp.Parameter((n, n*m))\n",
    "b = cp.Parameter(n)\n",
    "\n",
    "A_param.value = A\n",
    "b.value = np.ones(shape=(n))\n",
    "a = np.random.rand(m,n*n)\n",
    "print(a)\n",
    "print(A_param.shape)\n",
    "print(x.shape)\n",
    "print(b.shape)\n"
   ]
  },
  {
   "cell_type": "code",
   "execution_count": 13,
   "metadata": {},
   "outputs": [
    {
     "name": "stdout",
     "output_type": "stream",
     "text": [
      "[[0. 1.]\n",
      " [0. 1.]\n",
      " [0. 1.]]\n"
     ]
    }
   ],
   "source": [
    "constraints = [0 <= x, A_param @ x == b]\n",
    "\n",
    "def obj(a,x):\n",
    "    out = 0\n",
    "    idx = np.arange(x.shape[0]) \n",
    "    for i in np.arange(a.shape[0]): # loop over each item i\n",
    "        # extract the indices of vector x that correspond to the item i\n",
    "        # size of x_idcs must be m\n",
    "        x_idcs = idx[idx % m == i]\n",
    "        for j in np.arange(a.shape[1]): #loop over each element of a^{i}\n",
    "            # a_row corresponds to the index ji and a_col corresponds to the index ki\n",
    "            a_row, a_col = (math.floor(j / n), j % n)\n",
    "            out += a[i][j] * cp.minimum(x[x_idcs[a_row]], x[x_idcs[a_col]])\n",
    "    return out\n",
    "\n",
    "objective = cp.Maximize(obj(a,x))\n",
    "\n",
    "prob = cp.Problem(objective, constraints)\n",
    "\n",
    "result = prob.solve()\n",
    "\n",
    "            \n",
    "x = x.value.reshape(n,m)\n",
    "\n",
    "print(x)"
   ]
  }
 ],
 "metadata": {
  "kernelspec": {
   "display_name": "Python 3",
   "language": "python",
   "name": "python3"
  },
  "language_info": {
   "codemirror_mode": {
    "name": "ipython",
    "version": 3
   },
   "file_extension": ".py",
   "mimetype": "text/x-python",
   "name": "python",
   "nbconvert_exporter": "python",
   "pygments_lexer": "ipython3",
   "version": "3.8.3"
  }
 },
 "nbformat": 4,
 "nbformat_minor": 4
}
