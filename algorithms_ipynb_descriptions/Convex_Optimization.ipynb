{
 "cells": [
  {
   "cell_type": "markdown",
   "metadata": {},
   "source": [
    "# Convex Optimization"
   ]
  },
  {
   "cell_type": "code",
   "execution_count": 1,
   "metadata": {},
   "outputs": [],
   "source": [
    "import numpy as np\n",
    "import pandas as pd\n",
    "import random\n",
    "import cvxpy as cp\n",
    "import math"
   ]
  },
  {
   "cell_type": "markdown",
   "metadata": {},
   "source": [
    "### 1. Variables & Parameters initialization"
   ]
  },
  {
   "cell_type": "markdown",
   "metadata": {},
   "source": [
    "- Given that the problem has n agents and m items, we assume that the solution matrix $x$ size ($n,m$) will be treated as a vector of size $n \\times m$ through the optimization process\n",
    "<br><br>\n",
    "- We initilize variable $x$ and parameter $a, A, b$\n",
    "<br><br>\n",
    "- parameter $a$ is a 3-D parameter including $m$ 2-D matrix with size ($n, n$). However, it will be treated as 2-D matrix with size ($m, n \\times n$) through the optimization process\n",
    "<br><br>\n",
    "- We also define parameter $A$ for constraint. The matrix - vector multiplication equation $A \\times x = b$ should represent the first constraint of the convex problem which forces the sum of each row of matrix $x$ to be equal to 1"
   ]
  },
  {
   "cell_type": "code",
   "execution_count": 2,
   "metadata": {},
   "outputs": [
    {
     "name": "stdout",
     "output_type": "stream",
     "text": [
      "[[1. 1. 1. 0. 0. 0.]\n",
      " [0. 0. 0. 1. 1. 1.]]\n"
     ]
    }
   ],
   "source": [
    "# n : Number of agents\n",
    "# m : Number of items\n",
    "\n",
    "n = 2\n",
    "m = 3\n",
    "\n",
    "A = np.zeros(shape=(n, n*m))\n",
    "\n",
    "beg = 0\n",
    "end = m\n",
    "for i in np.arange(n):\n",
    "    idx = np.linspace(beg, end, m, endpoint = False)\n",
    "    idx = idx.astype(int)\n",
    "    A[i,idx] = 1\n",
    "    beg += m\n",
    "    end += m\n",
    "    \n",
    "\n",
    "print(A)"
   ]
  },
  {
   "cell_type": "code",
   "execution_count": 3,
   "metadata": {
    "scrolled": true
   },
   "outputs": [
    {
     "name": "stdout",
     "output_type": "stream",
     "text": [
      "(2, 6)\n",
      "(6,)\n",
      "(2,)\n",
      "[[0.71260638 0.26867874 0.0076263  0.63753091]\n",
      " [0.99418498 0.05961456 0.6264384  0.70803632]\n",
      " [0.33737061 0.90725415 0.9812598  0.86493739]]\n"
     ]
    }
   ],
   "source": [
    "# x : The solution variable\n",
    "# a : Parameter a\n",
    "# A : Parameter A\n",
    "# b : Parameter b, which is equal to the vector of size n including ones.\n",
    "\n",
    "x = cp.Variable(n*m)\n",
    "\n",
    "a = cp.Parameter((m,n*n))\n",
    "A_param = cp.Parameter((n, n*m))\n",
    "b = cp.Parameter(n)\n",
    "\n",
    "A_param.value = A\n",
    "b.value = np.ones(shape=(n))\n",
    "a = np.random.rand(m,n*n)\n",
    "a = a.reshape(m, n*n)\n",
    "print(A_param.shape)\n",
    "print(x.shape)\n",
    "print(b.shape)\n",
    "print(a)"
   ]
  },
  {
   "cell_type": "markdown",
   "metadata": {},
   "source": [
    "### 2. Optimization"
   ]
  },
  {
   "cell_type": "code",
   "execution_count": 4,
   "metadata": {},
   "outputs": [
    {
     "name": "stdout",
     "output_type": "stream",
     "text": [
      "[[9.75320355e-11 9.53437389e-11 1.00000000e+00]\n",
      " [9.75320437e-11 9.53437453e-11 1.00000000e+00]]\n"
     ]
    }
   ],
   "source": [
    "constraints = [0 <= x, A_param @ x == b]\n",
    "\n",
    "def obj(a,x):\n",
    "    out = 0\n",
    "    idx = np.arange(x.shape[0]) \n",
    "    \n",
    "    for i in np.arange(a.shape[0]): # loop over each item i\n",
    "        # extract the indices of vector x that correspond to the item i\n",
    "        # size of x_idcs must be m\n",
    "        x_idcs = idx[idx % m == i]\n",
    "        for j in np.arange(a.shape[1]): #loop over each element of a^{i}\n",
    "            # a_row corresponds to the index ji and a_col corresponds to the index ki\n",
    "            a_row, a_col = (math.floor(j / n), j % n)\n",
    "            if a_row != a_col:\n",
    "                out += a[i][j] * cp.minimum(x[x_idcs[a_row]], x[x_idcs[a_col]])\n",
    "    return out\n",
    "\n",
    "objective = cp.Maximize(obj(a,x))\n",
    "\n",
    "prob = cp.Problem(objective, constraints)\n",
    "\n",
    "result = prob.solve()\n",
    "\n",
    "            \n",
    "x = x.value.reshape(n,m)\n",
    "x = np.array(x)\n",
    "print(x)\n",
    "\n",
    "\n",
    "#selct input such that the output from convex opt and intprog are different\n",
    "#\n"
   ]
  }
 ],
 "metadata": {
  "kernelspec": {
   "display_name": "Python 3",
   "language": "python",
   "name": "python3"
  },
  "language_info": {
   "codemirror_mode": {
    "name": "ipython",
    "version": 3
   },
   "file_extension": ".py",
   "mimetype": "text/x-python",
   "name": "python",
   "nbconvert_exporter": "python",
   "pygments_lexer": "ipython3",
   "version": "3.8.3"
  }
 },
 "nbformat": 4,
 "nbformat_minor": 4
}
