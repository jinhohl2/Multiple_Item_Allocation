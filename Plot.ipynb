{
 "cells": [
  {
   "cell_type": "code",
   "execution_count": 1,
   "metadata": {},
   "outputs": [],
   "source": [
    "import numpy as np\n",
    "import pandas as pd\n",
    "import matplotlib.pyplot as plt\n",
    "import random\n",
    "import math\n",
    "from scipy import stats\n",
    "import cvxpy as cp\n",
    "from scipy import stats\n",
    "\n",
    "from integer_programming import IntProg\n",
    "from convex_optimization import ConvexOpt\n",
    "from algorithm1 import KTRounding\n",
    "from algorithm2 import RANCE"
   ]
  },
  {
   "cell_type": "code",
   "execution_count": 2,
   "metadata": {},
   "outputs": [],
   "source": [
    "def ObjVal(a,x):\n",
    "    a = np.array(a)\n",
    "    x = np.array(x)\n",
    "    n = x.shape[0]\n",
    "    m = x.shape[1]\n",
    "    a = a.reshape(m, n*n)\n",
    "    \n",
    "    x_comb = np.zeros((a.shape))\n",
    "    for i in np.arange(a.shape[0]): # loop over each item i\n",
    "        for j in np.arange(a.shape[1]): #loop over each element of a^{i}\n",
    "            # a_row corresponds to the index ji and a_col corresponds to the index ki\n",
    "            a_row, a_col = (math.floor(j / n), j % n)\n",
    "            if a_row != a_col:\n",
    "                x_comb[i][j] = x[a_row][i] * x[a_col][i]\n",
    "    \n",
    "    out_mat = a*x_comb\n",
    "    return np.sum(out_mat)"
   ]
  },
  {
   "cell_type": "markdown",
   "metadata": {},
   "source": [
    "### Generate Values"
   ]
  },
  {
   "cell_type": "code",
   "execution_count": null,
   "metadata": {},
   "outputs": [],
   "source": [
    "n = 20\n",
    "m = 10\n",
    "ip = []\n",
    "alg1 = []\n",
    "alg2 = []\n",
    "instances = []\n",
    "for i in range(100):\n",
    "    d = {}\n",
    "    a = []\n",
    "    \n",
    "#     #Offset Diagonal Method    \n",
    "#     for j in range(m):\n",
    "#         d[\"a{0}\".format(j)] = np.zeros((n,n))\n",
    "    \n",
    "#         rng = np.arange(n)\n",
    "#         rngx = rng + i\n",
    "#         rngy = rng+n\n",
    "#         d[\"a{0}\".format(j)][rngx%len(rngx), (rngy+j)%len(rngx)] = 1\n",
    "#         a.append(d[\"a{0}\".format(j)])\n",
    "#     a = np.array(a)\n",
    "\n",
    "    \n",
    "    #Random Binary Assignment Method\n",
    "    for j in range(m):\n",
    "        d[\"a{0}\".format(j)] = np.zeros((n,n))\n",
    "    \n",
    "        seed = np.arange(n)\n",
    "        rngx = np.random.choice(seed,10, replace=False, p=None)\n",
    "        rngy = np.random.choice(seed,10, replace=True,p=None)\n",
    "        d[\"a{0}\".format(j)][rngx, rngy] = 1\n",
    "        a.append(d[\"a{0}\".format(j)])\n",
    "    a = np.array(a)\n",
    "    \n",
    "    \n",
    "    \n",
    "    x_ip = IntProg(a)\n",
    "    \n",
    "    x = ConvexOpt(a)\n",
    "    x_alg1 = KTRounding(x)\n",
    "    x_alg2 = RANCE(x)\n",
    "    \n",
    "    ip.append(ObjVal(a,x_ip))\n",
    "    alg1.append(ObjVal(a,x_alg1))\n",
    "    alg2.append(ObjVal(a,x_alg2))\n",
    "    instances.append(i)\n",
    "    \n",
    "print(ip)\n",
    "print(alg1)\n",
    "print(alg2)\n",
    "    "
   ]
  },
  {
   "cell_type": "markdown",
   "metadata": {},
   "source": [
    "### Plot"
   ]
  },
  {
   "cell_type": "code",
   "execution_count": null,
   "metadata": {},
   "outputs": [],
   "source": [
    "plt.plot(instances, ip, color = 'black', linestyle = '--', label='Integer Programming')\n",
    "plt.plot(instances, alg1, color = 'red', linestyle = '-', label='Algorithm 1')\n",
    "plt.plot(instances, alg2, color = 'blue', linestyle = '-', label='Algorithm 2')\n",
    "plt.title('Objective values of different rounding algorithms')\n",
    "plt.ylabel('Objective Value')\n",
    "plt.xlabel('Instances')\n",
    "plt.legend()\n",
    "plt.show()\n",
    "    "
   ]
  }
 ],
 "metadata": {
  "kernelspec": {
   "display_name": "Python 3",
   "language": "python",
   "name": "python3"
  },
  "language_info": {
   "codemirror_mode": {
    "name": "ipython",
    "version": 3
   },
   "file_extension": ".py",
   "mimetype": "text/x-python",
   "name": "python",
   "nbconvert_exporter": "python",
   "pygments_lexer": "ipython3",
   "version": "3.8.3"
  }
 },
 "nbformat": 4,
 "nbformat_minor": 4
}
