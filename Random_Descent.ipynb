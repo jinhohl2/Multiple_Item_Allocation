{
 "cells": [
  {
   "cell_type": "code",
   "execution_count": 1,
   "metadata": {},
   "outputs": [],
   "source": [
    "import numpy as np\n",
    "import pandas as pd\n",
    "import matplotlib.pyplot as plt\n",
    "from matplotlib.ticker import MaxNLocator\n",
    "import random\n",
    "import math\n",
    "from scipy import stats\n",
    "import cvxpy as cp\n",
    "from scipy import stats\n",
    "\n",
    "from integer_programming import IntProg\n",
    "from random_descent import *"
   ]
  },
  {
   "cell_type": "code",
   "execution_count": 4,
   "metadata": {},
   "outputs": [],
   "source": [
    "def ObjVal(a,x):\n",
    "    a = np.array(a)\n",
    "    x = np.array(x)\n",
    "    n = x.shape[0]\n",
    "    m = x.shape[1]\n",
    "    a = a.reshape(m, n*n)\n",
    "    \n",
    "    x_comb = np.zeros((a.shape))\n",
    "    for i in np.arange(a.shape[0]): # loop over each item i\n",
    "        for j in np.arange(a.shape[1]): #loop over each element of a^{i}\n",
    "            # a_row corresponds to the index ji and a_col corresponds to the index ki\n",
    "            a_row, a_col = (math.floor(j / n), j % n)\n",
    "            if a_row != a_col:\n",
    "                x_comb[i][j] = x[a_row][i] * x[a_col][i]\n",
    "    \n",
    "    out_mat = a*x_comb\n",
    "    return np.sum(out_mat)"
   ]
  },
  {
   "cell_type": "code",
   "execution_count": 56,
   "metadata": {},
   "outputs": [
    {
     "name": "stdout",
     "output_type": "stream",
     "text": [
      "71\n"
     ]
    },
    {
     "data": {
      "image/png": "[encoded data removed]",
      "text/plain": [
       "<Figure size 432x288 with 1 Axes>"
      ]
     },
     "metadata": {
      "needs_background": "light"
     },
     "output_type": "display_data"
    },
    {
     "data": {
      "image/png": "[encoded data removed]",
      "text/plain": [
       "<Figure size 432x288 with 1 Axes>"
      ]
     },
     "metadata": {
      "needs_background": "light"
     },
     "output_type": "display_data"
    }
   ],
   "source": [
    "n = 30\n",
    "m = 10\n",
    "\n",
    "a = np.random.rand(m,n,n)\n",
    "x, obj_vals = RandomDescent(a)\n",
    "\n",
    "num_iter = np.arange(len(obj_vals))\n",
    "\n",
    "plt.plot(num_iter, obj_vals, color = 'black', linestyle = '--', label='')\n",
    "plt.title('Change in Objective Value')\n",
    "plt.ylabel('Objective Value')\n",
    "plt.xlabel('Number of Iterations')\n",
    "ax = plt.figure().gca()\n",
    "ax.xaxis.set_major_locator(MaxNLocator(integer=True))\n",
    "    "
   ]
  },
  {
   "cell_type": "code",
   "execution_count": null,
   "metadata": {},
   "outputs": [],
   "source": [
    "#50\n",
    "\n",
    "ip_list = []\n",
    "rd_list = []\n",
    "n_vals = []\n",
    "\n",
    "m = 10\n",
    "\n",
    "for i in range(40):\n",
    "    n = i + m\n",
    "    print(n)\n",
    "\n",
    "    d = {}\n",
    "    a = []\n",
    "\n",
    "   \n",
    "    #Random Binary Assignment Method\n",
    "    for j in range(m):\n",
    "        d[\"a{0}\".format(j)] = np.zeros((n,n))\n",
    "    \n",
    "        seed = np.arange(n)\n",
    "\n",
    "        num_idcs = math.floor(n/3)\n",
    "\n",
    "        rngx = np.random.choice(seed,num_idcs, replace=False, p=None)\n",
    "        rngy = np.random.choice(seed,num_idcs, replace=True,p=None)\n",
    "        d[\"a{0}\".format(j)][rngx, rngy] = 1\n",
    "        \n",
    "        rngx2 = np.random.choice(seed,num_idcs, replace=False, p=None)\n",
    "        rngy2 = np.random.choice(seed,num_idcs, replace=True,p=None)\n",
    "        d[\"a{0}\".format(j)][rngx2, rngy2] = 0.5\n",
    "        a.append(d[\"a{0}\".format(j)])\n",
    "\n",
    "    a = np.array(a)\n",
    "    \n",
    "    x_ip = IntProg(a)\n",
    "    x_rd, dummy = RandomDescent(x_cp)\n",
    "    \n",
    "    ip_list.append(ObjVal(a,x_ip))\n",
    "    rd_list.append(ObjVal(a,x_rd))\n",
    "    n_vals.append(n)\n",
    "    print(i)\n",
    "\n",
    "print(ip_list)\n",
    "print(rd_list)\n",
    "print(n_vals)\n",
    "\n",
    "plt.plot(n_vals, ip_list, color = 'red', linestyle = '-', label='Integer Programming')\n",
    "plt.plot(n_vals, rd_list, color = 'blue', linestyle = '-', label='Randomized Descent')\n",
    "plt.title('Objective values of different Optimizing algorithms')\n",
    "plt.ylabel('Objective Value')\n",
    "plt.xlabel('Number of Agents')\n",
    "plt.legend()\n",
    "plt.show()"
   ]
  }
 ],
 "metadata": {
  "kernelspec": {
   "display_name": "Python 3",
   "language": "python",
   "name": "python3"
  },
  "language_info": {
   "codemirror_mode": {
    "name": "ipython",
    "version": 3
   },
   "file_extension": ".py",
   "mimetype": "text/x-python",
   "name": "python",
   "nbconvert_exporter": "python",
   "pygments_lexer": "ipython3",
   "version": "3.8.3"
  }
 },
 "nbformat": 4,
 "nbformat_minor": 4
}
